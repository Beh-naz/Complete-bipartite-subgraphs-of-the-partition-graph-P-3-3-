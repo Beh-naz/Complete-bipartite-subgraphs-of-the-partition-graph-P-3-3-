{
  "nbformat": 4,
  "nbformat_minor": 0,
  "metadata": {
    "colab": {
      "provenance": []
    },
    "kernelspec": {
      "name": "python3",
      "display_name": "Python 3"
    },
    "language_info": {
      "name": "python"
    }
  },
  "cells": [
    {
      "cell_type": "code",
      "execution_count": null,
      "metadata": {
        "id": "19nygAuLdKMW"
      },
      "outputs": [],
      "source": [
        "# Python program to print all\n",
        "# the possible combinations\n",
        "\n",
        "from itertools import permutations\n",
        "\n",
        "# Get all combination of [1, 2, 3]\n",
        "# of length 3\n",
        "comb = permutations([1, 2, 3, 4, 5, 6, 7, 8, 9], 9)\n",
        "combs = []\n",
        "for i in comb:#itertools to list\n",
        "    # print(i)\n",
        "    combs.append(i)"
      ]
    },
    {
      "cell_type": "code",
      "source": [
        "def CheckAllElemansCell1InOneOfVertices2(cell1,vertex2):#Checks if 1 cell is in 3 cells\n",
        "  for i in range(3):\n",
        "    if (cell1[0] in vertex2[i]) and (cell1[1] in vertex2[i]) and (cell1[2] in vertex2[i]):\n",
        "      return True\n",
        "  return False"
      ],
      "metadata": {
        "id": "ZNJeskJP5ez7"
      },
      "execution_count": null,
      "outputs": []
    },
    {
      "cell_type": "code",
      "source": [
        "# Deleting repeated vertices\n",
        "vertices = []\n",
        "for i in range(len(combs)):\n",
        "  uncheckedVertex = [[combs[i][0],combs[i][1],combs[i][2]], [combs[i][3],combs[i][4],combs[i][5]], [combs[i][6],combs[i][7],combs[i][8]]]\n",
        "  appendingvariable = True\n",
        "  for j in range(len(vertices)):\n",
        "    if CheckAllElemansCell1InOneOfVertices2(uncheckedVertex[0], vertices[j]):\n",
        "      if CheckAllElemansCell1InOneOfVertices2(uncheckedVertex[1], vertices[j]):\n",
        "        if CheckAllElemansCell1InOneOfVertices2(uncheckedVertex[2], vertices[j]):\n",
        "          appendingvariable = False\n",
        "          break\n",
        "  if appendingvariable == True:\n",
        "    vertices.append(uncheckedVertex)\n"
      ],
      "metadata": {
        "id": "AZUY-N3uq9CB"
      },
      "execution_count": null,
      "outputs": []
    },
    {
      "cell_type": "code",
      "source": [
        "def RecognizingNeighbours(vertex1, vertex2):\n",
        "\n",
        "  connectionchecking = 0\n",
        "\n",
        "  for cell in vertex1:\n",
        "    indices = [0,1,2]\n",
        "\n",
        "    for i in range(3):\n",
        "      if cell[0] in vertex2[i]:\n",
        "        indices.remove(i)\n",
        "    for i in range(3):\n",
        "      if cell[1] in vertex2[i]:\n",
        "        try:\n",
        "          indices.remove(i)\n",
        "        except:\n",
        "          pass\n",
        "    for i in range(3):\n",
        "      if cell[2] in vertex2[i]:\n",
        "        try:\n",
        "          indices.remove(i)\n",
        "        except:\n",
        "          pass\n",
        "\n",
        "    if not indices:\n",
        "      # It means our indices is empty, the cell was distributed in three cells of other vertex\n",
        "      connectionchecking = connectionchecking + 1\n",
        "\n",
        "  if connectionchecking == 3:\n",
        "    # It means our vertices are connected together\n",
        "    return True\n",
        "  else:\n",
        "    return False"
      ],
      "metadata": {
        "id": "_TgZdTe00nAk"
      },
      "execution_count": null,
      "outputs": []
    },
    {
      "cell_type": "code",
      "source": [
        "# Find neighbours\n",
        "neighbours = []\n",
        "for i in range(len(vertices)):\n",
        "  connection = []\n",
        "  VERTEX1 = vertices[i]\n",
        "\n",
        "  for j in range(len(vertices)):\n",
        "    VERTEX2 = vertices[j]\n",
        "    connectionvariable = RecognizingNeighbours(VERTEX1, VERTEX2)\n",
        "    if connectionvariable == True:\n",
        "      connection.append(j)\n",
        "\n",
        "  neighbours.append(connection)"
      ],
      "metadata": {
        "id": "908qdaDKKqTp"
      },
      "execution_count": null,
      "outputs": []
    },
    {
      "cell_type": "code",
      "source": [
        "def CheckingCliqueIsRepeatedOrNot(myclique, cliques):\n",
        "  TF = False\n",
        "  for clique in cliques:\n",
        "    if (myclique[0] in clique) and (myclique[1] in clique) and (myclique[2] in clique) and (myclique[3] in clique):\n",
        "      TF = True\n",
        "  return TF"
      ],
      "metadata": {
        "id": "XZlCF3a9otDi"
      },
      "execution_count": null,
      "outputs": []
    },
    {
      "cell_type": "code",
      "source": [
        "# Building all cliques\n",
        "cliques = []\n",
        "for i in range(len(neighbours)):\n",
        "  firstNeighbours = neighbours[i].copy()\n",
        "  j = 0\n",
        "  while j<12:\n",
        "    secondNeighbours = neighbours[firstNeighbours[0]] # neighbours of vertex 155\n",
        "    removedelement = firstNeighbours[0]\n",
        "    firstNeighbours.remove(firstNeighbours[0]) # removing 155 from firstNeighbours\n",
        "    subscription = []\n",
        "    for k in firstNeighbours: # it starts from 156\n",
        "      if k in secondNeighbours:\n",
        "        subscription.append(k)\n",
        "\n",
        "    firstNeighbours.remove(subscription[0])\n",
        "    firstNeighbours.remove(subscription[1])\n",
        "\n",
        "    currentClique = [i,removedelement, subscription[0], subscription[1]]\n",
        "    checkingvalue = CheckingCliqueIsRepeatedOrNot(currentClique, cliques)\n",
        "    if checkingvalue == False:\n",
        "      cliques.append(currentClique)\n",
        "      # print(\"\\n\",cliques[-1])\n",
        "\n",
        "    j = j+1\n",
        "\n",
        "# print(\"\\n Lenght cliques: \",len(cliques))"
      ],
      "metadata": {
        "id": "BOZQimbDahhO"
      },
      "execution_count": null,
      "outputs": []
    },
    {
      "cell_type": "code",
      "source": [
        "# Vertices of B_{edge}\n",
        "# The number of the vertices of B_{edge} are double the number of the edges of P(3^3)\n",
        "edges = []\n",
        "for i in range(len(neighbours)):\n",
        "  for j in range(len(neighbours[i])):\n",
        "    edges.append([i,neighbours[i][j]])"
      ],
      "metadata": {
        "id": "cR0xyuvF1y9M"
      },
      "execution_count": null,
      "outputs": []
    },
    {
      "cell_type": "code",
      "source": [
        "def IntersectionNumber(vertex1,vertex2):\n",
        "  intersections = []\n",
        "\n",
        "  for cell1 in vertex1:\n",
        "    repeatedIntersections = []\n",
        "    for i in range(3): # Loop on cell1 values\n",
        "      for j in range(3): # loop on vertex2 cells\n",
        "        cell2 = vertex2[j]\n",
        "        if cell1[i] in cell2:\n",
        "          repeatedIntersections.append(j)\n",
        "\n",
        "    # Delete repeated values from list repeatedIntersections\n",
        "    # print(\"repeatedIntersections: \",repeatedIntersections)\n",
        "    intersectionsWithoutRepeat = list(dict.fromkeys(repeatedIntersections))\n",
        "    lenIntersectionsWithoutRepeat = len(intersectionsWithoutRepeat)\n",
        "\n",
        "    intersections.append(lenIntersectionsWithoutRepeat)\n",
        "\n",
        "  return sum(intersections)"
      ],
      "metadata": {
        "id": "JZFvzDYNCoGL"
      },
      "execution_count": null,
      "outputs": []
    },
    {
      "cell_type": "code",
      "source": [
        "# Intersection number\n",
        "type5 = []\n",
        "type6 = []\n",
        "type7 = []\n",
        "type9 = []\n",
        "for VERTEX1 in vertices:\n",
        "  for VERTEX2 in vertices:\n",
        "    if IntersectionNumber(VERTEX1, VERTEX2)==5:\n",
        "      type5.append([VERTEX1,VERTEX2])\n",
        "    if IntersectionNumber(VERTEX1, VERTEX2)==6:\n",
        "      type6.append([VERTEX1,VERTEX2])\n",
        "    if IntersectionNumber(VERTEX1, VERTEX2)==7:\n",
        "      type7.append([VERTEX1,VERTEX2])\n",
        "    if IntersectionNumber(VERTEX1, VERTEX2)==9:\n",
        "      type9.append([VERTEX1,VERTEX2])\n",
        "\n",
        "# print (\"len type 5:\",len(type5)/2)\n",
        "# print (\"len type 6:\", len(type6)/2)\n",
        "# print (\"len type 7:\", len(type7)/2)\n",
        "# print (\"len type 9:\", len(type9)/2)"
      ],
      "metadata": {
        "id": "VGhJEiz643-q"
      },
      "execution_count": null,
      "outputs": []
    },
    {
      "cell_type": "code",
      "source": [
        "# Common neighbours of two vertices\n",
        "def Intersection2Neighbours(nei1, nei2):\n",
        "  ints = []\n",
        "  for n1 in nei1:\n",
        "    if n1 in nei2:\n",
        "      ints.append(n1)\n",
        "  return ints"
      ],
      "metadata": {
        "id": "s3N0IhmVoSk0"
      },
      "execution_count": null,
      "outputs": []
    },
    {
      "cell_type": "code",
      "source": [
        "def CheckRepeatedSimplex(mysimplicies, mysimplex, NumberOfVerticies):\n",
        "\n",
        "  for i in range(len(mysimplicies)):\n",
        "    counter = 0\n",
        "    for j in range(len(mysimplex)):\n",
        "      # if ((mysimplex[j][0] in mysimplicies[i][0]) and (mysimplex[j][1] in mysimplicies[i][0])) or (\n",
        "      #     (mysimplex[j][0] in mysimplicies[i][1]) and (mysimplex[j][1] in mysimplicies[i][1])) or (\n",
        "      #     (mysimplex[j][0] in mysimplicies[i][2]) and (mysimplex[j][1] in mysimplicies[i][2])) or (\n",
        "      #     (mysimplex[j][0] in mysimplicies[i][3]) and (mysimplex[j][1] in mysimplicies[i][3])):\n",
        "      if mysimplex[j] in mysimplicies[i]:\n",
        "        counter = counter + 1\n",
        "    if counter == NumberOfVerticies:\n",
        "      return True\n",
        "  return False\n"
      ],
      "metadata": {
        "id": "nFJd5NnMhgrl"
      },
      "execution_count": null,
      "outputs": []
    },
    {
      "cell_type": "code",
      "source": [
        "def AandCSimplicies(ListOfPairs, NumberOfVerticies):\n",
        "  simplicies = []\n",
        "  for pair in ListOfPairs:\n",
        "    simplex = []\n",
        "    right = []\n",
        "    left = pair.copy()\n",
        "    i = pair[0]\n",
        "    j = pair[1]\n",
        "    right = Intersection2Neighbours(neighbours[i],neighbours[j])\n",
        "    for x in left:\n",
        "      for y in right:\n",
        "        simplex.append([x,y])\n",
        "\n",
        "    TF = CheckRepeatedSimplex(simplicies, simplex, NumberOfVerticies)\n",
        "    if TF == False:\n",
        "      # print (\"\\n Asimplex:\", Asimplex)\n",
        "      simplicies.append(simplex)\n",
        "\n",
        "  return simplicies"
      ],
      "metadata": {
        "id": "VMrnA9r-IS5q"
      },
      "execution_count": null,
      "outputs": []
    },
    {
      "cell_type": "code",
      "source": [
        "# Bsimplicies\n",
        "Bsimplicies = []\n",
        "\n",
        "for i in range(len(neighbours)):\n",
        "  simplex = []\n",
        "  for j in neighbours[i]:\n",
        "      simplex.append([i,j])\n",
        "\n",
        "  TF = CheckRepeatedSimplex(Bsimplicies, simplex, 36)\n",
        "  if TF == False:\n",
        "    # print (\"\\n Asimplex:\", Asimplex)\n",
        "    Bsimplicies.append(simplex)"
      ],
      "metadata": {
        "id": "mmhlsrVT1cxQ"
      },
      "execution_count": null,
      "outputs": []
    }
  ]
}